{
 "cells": [
  {
   "cell_type": "markdown",
   "metadata": {},
   "source": [
    "I chose this data because it closely reflected the data I needed to show a holistic reflection on climate change and directly how the mean temperature has changed throughout the years. I chose the data provided by the IMF because they have global coverage, credibility, and consistency. "
   ]
  },
  {
   "cell_type": "code",
   "execution_count": 1,
   "metadata": {},
   "outputs": [
    {
     "name": "stdout",
     "output_type": "stream",
     "text": [
      "                        country  year  temperature_change\n",
      "0  Afghanistan, Islamic Rep. of  1961              -0.113\n",
      "1                       Albania  1961               0.627\n",
      "2                       Algeria  1961               0.164\n",
      "3                American Samoa  1961               0.079\n",
      "4      Andorra, Principality of  1961               0.736\n"
     ]
    }
   ],
   "source": [
    "import pandas as pd\n",
    "import seaborn as sns\n",
    "import numpy as np\n",
    "import plotly.express as px\n",
    "from dash import Dash, dcc, html, Input, Output\n",
    "\n",
    "# Load the dataset\n",
    "file_path = '/Users/fionamagee/Desktop/Sprint2/dataset1.csv'\n",
    "data = pd.read_csv(file_path)\n",
    "\n",
    "# Drop Unnecessary Columns\n",
    "columns_to_drop = ['ObjectId', 'ISO2', 'ISO3', 'Indicator', 'Unit', 'Source', 'CTS_Code', 'CTS_Name', 'CTS_Full_Descriptor']\n",
    "data_cleaned = data.drop(columns=columns_to_drop)\n",
    "\n",
    "# Rename Columns\n",
    "data_cleaned.rename(columns={'Country': 'country'}, inplace=True)\n",
    "\n",
    "# Deal with Missing Values\n",
    "# Fill missing values with the mean of each column, but only for numeric columns\n",
    "numeric_cols = data_cleaned.select_dtypes(include=[np.number]).columns\n",
    "data_cleaned[numeric_cols] = data_cleaned[numeric_cols].fillna(data_cleaned[numeric_cols].mean())\n",
    "\n",
    "# Tidy the Data\n",
    "# Convert the dataset from wide format to long format\n",
    "data_tidy = pd.melt(data_cleaned, id_vars=['country'], var_name='year', value_name='temperature_change')\n",
    "\n",
    "#removed F from year \n",
    "data_tidy['year'] = data_tidy['year'].str.replace('F', '')\n",
    "\n",
    "# Display the tidied dataset\n",
    "print(data_tidy.head())\n",
    "\n",
    "\n"
   ]
  },
  {
   "cell_type": "markdown",
   "metadata": {},
   "source": [
    "Cleaned Data Analysis\n",
    "1. Some observation I made while looking at this data was it was very long and had lots of unnecessary parts were included within it. \n",
    "2. The categories of this data included,  ObjectId, ISO2, ISO3, Indicator, Unit,  Source, CTS_Code, CTS_Name, CTS_Full_Descriptor, country, year, and temperature change. \n",
    "3. There were some missing values in the mean for each column which I cleaned up. \n",
    "4. The distributions of continuous variables vary throughout each country and year, but some examples include in 1961 there were no outliers but in 2010 the outliers included 2.265°C, 2.775°C, 2.327°C. "
   ]
  },
  {
   "cell_type": "code",
   "execution_count": 3,
   "metadata": {},
   "outputs": [
    {
     "name": "stdout",
     "output_type": "stream",
     "text": [
      "               column                            description    type\n",
      "0             country                    Name of the country  string\n",
      "1                year  Year of the temperature change record  string\n",
      "2  temperature_change  Temperature change in degrees Celsius   float\n"
     ]
    }
   ],
   "source": [
    "dataDict = {\n",
    "    #country row \n",
    "    'country': {\n",
    "        'description': 'Name of the country',\n",
    "        'type': 'string'\n",
    "    },\n",
    "    #year row \n",
    "    'year': {\n",
    "        'description': 'Year of the temperature change record',\n",
    "        'type': 'string'\n",
    "    },\n",
    "    #temperature row \n",
    "    'temperature_change': {\n",
    "        'description': 'Temperature change in degrees Celsius',\n",
    "        'type': 'float'\n",
    "    }\n",
    "}\n",
    "\n",
    "# Converted the data dictionary to a DataFrame so it can be easily viewed\n",
    "finalDatadict = pd.DataFrame.from_dict(dataDict, orient='index')\n",
    "finalDatadict.index.name = 'column'\n",
    "finalDatadict.reset_index(inplace=True)\n",
    "\n",
    "# Display the data dictionary\n",
    "print(finalDatadict)"
   ]
  },
  {
   "cell_type": "markdown",
   "metadata": {},
   "source": [
    "UI Components \n",
    "- I’d include a dropdown menu to select the country \n",
    "- I’d include infographics and fact boxes to provide additional information about climate change progress that cannot be shown through data visualization \n",
    "- I’d include a CSS styling sheet to make the website come together and look appealing to the user \n"
   ]
  },
  {
   "cell_type": "markdown",
   "metadata": {},
   "source": [
    "Data Visualization Components \n",
    "- I’d included a drop down bar to select multiple countries \n",
    "- I’d include a bar graph ideally so the change in temperature can be most well reflected \n",
    "- I could also include a slider that changes the years that are desired to be visualized \n"
   ]
  }
 ],
 "metadata": {
  "kernelspec": {
   "display_name": "ds4003",
   "language": "python",
   "name": "python3"
  },
  "language_info": {
   "codemirror_mode": {
    "name": "ipython",
    "version": 3
   },
   "file_extension": ".py",
   "mimetype": "text/x-python",
   "name": "python",
   "nbconvert_exporter": "python",
   "pygments_lexer": "ipython3",
   "version": "3.8.18"
  }
 },
 "nbformat": 4,
 "nbformat_minor": 2
}
